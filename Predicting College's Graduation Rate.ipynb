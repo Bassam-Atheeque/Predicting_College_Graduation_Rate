{
 "cells": [
  {
   "cell_type": "markdown",
   "metadata": {},
   "source": [
    "# Predicting College's Graduation Rate (model validation)\n",
    "\n",
    "### - Bassam Atheeque\n",
    "---"
   ]
  },
  {
   "cell_type": "markdown",
   "metadata": {},
   "source": [
    "## Data description:\n",
    "\n",
    "This dataset contains a number of variables for over 700 different universities and colleges in the U.S.\n",
    "\n",
    "**Private**: Public/private indicator\n",
    "\n",
    "**Apps**: Number of applications received\n",
    "\n",
    "**Accept**: Number of applicants accepted\n",
    "\n",
    "**Enroll**: Number of new students enrolled\n",
    "\n",
    "**Top10perc**: New students from top 10% of high school class\n",
    "\n",
    "**Top25perc**: New students from top 25% of high school class\n",
    "\n",
    "**F.Undergrad**: Number of full-time undergraduates\n",
    "\n",
    "**P.Undergrad**: Number of part-time undergraduates\n",
    "\n",
    "**Outstate**: Out-of-state tuition\n",
    "\n",
    "**Room.Board**: Room and board costs\n",
    "\n",
    "**Books**: Estimated book costs\n",
    "\n",
    "**Personal**: Estimated personal spending\n",
    "\n",
    "**PhD**: Percent of faculty with Ph.D.’s\n",
    "\n",
    "**Terminal**: Percent of faculty with terminal degree\n",
    "\n",
    "**S.F.Ratio**: Student/faculty ratio\n",
    "\n",
    "**perc.alumni**: Percent of alumni who donate\n",
    "\n",
    "**Expend**: Instructional expenditure per student\n",
    "\n",
    "**Grad.Rate**: Graduation rate"
   ]
  },
  {
   "cell_type": "code",
   "execution_count": 1,
   "metadata": {},
   "outputs": [],
   "source": [
    "# Importing the libraries:\n",
    "\n",
    "import numpy as np\n",
    "import pandas as pd\n",
    "import matplotlib.pyplot as plt\n",
    "import seaborn as sns\n",
    "import statsmodels.formula.api as smf\n",
    "from scipy import stats"
   ]
  },
  {
   "cell_type": "code",
   "execution_count": 2,
   "metadata": {},
   "outputs": [],
   "source": [
    "collegedata = pd.read_csv('.\\college.csv')"
   ]
  },
  {
   "cell_type": "code",
   "execution_count": 3,
   "metadata": {},
   "outputs": [
    {
     "data": {
      "text/html": [
       "<div>\n",
       "<style scoped>\n",
       "    .dataframe tbody tr th:only-of-type {\n",
       "        vertical-align: middle;\n",
       "    }\n",
       "\n",
       "    .dataframe tbody tr th {\n",
       "        vertical-align: top;\n",
       "    }\n",
       "\n",
       "    .dataframe thead th {\n",
       "        text-align: right;\n",
       "    }\n",
       "</style>\n",
       "<table border=\"1\" class=\"dataframe\">\n",
       "  <thead>\n",
       "    <tr style=\"text-align: right;\">\n",
       "      <th></th>\n",
       "      <th>Unnamed: 0</th>\n",
       "      <th>Private</th>\n",
       "      <th>Apps</th>\n",
       "      <th>Accept</th>\n",
       "      <th>Enroll</th>\n",
       "      <th>Top10perc</th>\n",
       "      <th>Top25perc</th>\n",
       "      <th>F.Undergrad</th>\n",
       "      <th>P.Undergrad</th>\n",
       "      <th>Outstate</th>\n",
       "      <th>Room.Board</th>\n",
       "      <th>Books</th>\n",
       "      <th>Personal</th>\n",
       "      <th>PhD</th>\n",
       "      <th>Terminal</th>\n",
       "      <th>S.F.Ratio</th>\n",
       "      <th>perc.alumni</th>\n",
       "      <th>Expend</th>\n",
       "      <th>Grad.Rate</th>\n",
       "    </tr>\n",
       "  </thead>\n",
       "  <tbody>\n",
       "    <tr>\n",
       "      <th>0</th>\n",
       "      <td>Abilene Christian University</td>\n",
       "      <td>Yes</td>\n",
       "      <td>1660</td>\n",
       "      <td>1232</td>\n",
       "      <td>721</td>\n",
       "      <td>23</td>\n",
       "      <td>52</td>\n",
       "      <td>2885</td>\n",
       "      <td>537</td>\n",
       "      <td>7440</td>\n",
       "      <td>3300</td>\n",
       "      <td>450</td>\n",
       "      <td>2200</td>\n",
       "      <td>70</td>\n",
       "      <td>78</td>\n",
       "      <td>18.1</td>\n",
       "      <td>12</td>\n",
       "      <td>7041</td>\n",
       "      <td>60</td>\n",
       "    </tr>\n",
       "    <tr>\n",
       "      <th>1</th>\n",
       "      <td>Adelphi University</td>\n",
       "      <td>Yes</td>\n",
       "      <td>2186</td>\n",
       "      <td>1924</td>\n",
       "      <td>512</td>\n",
       "      <td>16</td>\n",
       "      <td>29</td>\n",
       "      <td>2683</td>\n",
       "      <td>1227</td>\n",
       "      <td>12280</td>\n",
       "      <td>6450</td>\n",
       "      <td>750</td>\n",
       "      <td>1500</td>\n",
       "      <td>29</td>\n",
       "      <td>30</td>\n",
       "      <td>12.2</td>\n",
       "      <td>16</td>\n",
       "      <td>10527</td>\n",
       "      <td>56</td>\n",
       "    </tr>\n",
       "    <tr>\n",
       "      <th>2</th>\n",
       "      <td>Adrian College</td>\n",
       "      <td>Yes</td>\n",
       "      <td>1428</td>\n",
       "      <td>1097</td>\n",
       "      <td>336</td>\n",
       "      <td>22</td>\n",
       "      <td>50</td>\n",
       "      <td>1036</td>\n",
       "      <td>99</td>\n",
       "      <td>11250</td>\n",
       "      <td>3750</td>\n",
       "      <td>400</td>\n",
       "      <td>1165</td>\n",
       "      <td>53</td>\n",
       "      <td>66</td>\n",
       "      <td>12.9</td>\n",
       "      <td>30</td>\n",
       "      <td>8735</td>\n",
       "      <td>54</td>\n",
       "    </tr>\n",
       "    <tr>\n",
       "      <th>3</th>\n",
       "      <td>Agnes Scott College</td>\n",
       "      <td>Yes</td>\n",
       "      <td>417</td>\n",
       "      <td>349</td>\n",
       "      <td>137</td>\n",
       "      <td>60</td>\n",
       "      <td>89</td>\n",
       "      <td>510</td>\n",
       "      <td>63</td>\n",
       "      <td>12960</td>\n",
       "      <td>5450</td>\n",
       "      <td>450</td>\n",
       "      <td>875</td>\n",
       "      <td>92</td>\n",
       "      <td>97</td>\n",
       "      <td>7.7</td>\n",
       "      <td>37</td>\n",
       "      <td>19016</td>\n",
       "      <td>59</td>\n",
       "    </tr>\n",
       "    <tr>\n",
       "      <th>4</th>\n",
       "      <td>Alaska Pacific University</td>\n",
       "      <td>Yes</td>\n",
       "      <td>193</td>\n",
       "      <td>146</td>\n",
       "      <td>55</td>\n",
       "      <td>16</td>\n",
       "      <td>44</td>\n",
       "      <td>249</td>\n",
       "      <td>869</td>\n",
       "      <td>7560</td>\n",
       "      <td>4120</td>\n",
       "      <td>800</td>\n",
       "      <td>1500</td>\n",
       "      <td>76</td>\n",
       "      <td>72</td>\n",
       "      <td>11.9</td>\n",
       "      <td>2</td>\n",
       "      <td>10922</td>\n",
       "      <td>15</td>\n",
       "    </tr>\n",
       "  </tbody>\n",
       "</table>\n",
       "</div>"
      ],
      "text/plain": [
       "                     Unnamed: 0 Private  Apps  Accept  Enroll  Top10perc  \\\n",
       "0  Abilene Christian University     Yes  1660    1232     721         23   \n",
       "1            Adelphi University     Yes  2186    1924     512         16   \n",
       "2                Adrian College     Yes  1428    1097     336         22   \n",
       "3           Agnes Scott College     Yes   417     349     137         60   \n",
       "4     Alaska Pacific University     Yes   193     146      55         16   \n",
       "\n",
       "   Top25perc  F.Undergrad  P.Undergrad  Outstate  Room.Board  Books  Personal  \\\n",
       "0         52         2885          537      7440        3300    450      2200   \n",
       "1         29         2683         1227     12280        6450    750      1500   \n",
       "2         50         1036           99     11250        3750    400      1165   \n",
       "3         89          510           63     12960        5450    450       875   \n",
       "4         44          249          869      7560        4120    800      1500   \n",
       "\n",
       "   PhD  Terminal  S.F.Ratio  perc.alumni  Expend  Grad.Rate  \n",
       "0   70        78       18.1           12    7041         60  \n",
       "1   29        30       12.2           16   10527         56  \n",
       "2   53        66       12.9           30    8735         54  \n",
       "3   92        97        7.7           37   19016         59  \n",
       "4   76        72       11.9            2   10922         15  "
      ]
     },
     "execution_count": 3,
     "metadata": {},
     "output_type": "execute_result"
    }
   ],
   "source": [
    "collegedata.head()"
   ]
  },
  {
   "cell_type": "markdown",
   "metadata": {},
   "source": [
    "### Firstly, we will rename the column name to make it more relatable. It will also help us later on to refer to the variables when specifying the regression formula in statsmodels."
   ]
  },
  {
   "cell_type": "code",
   "execution_count": 4,
   "metadata": {},
   "outputs": [
    {
     "data": {
      "text/html": [
       "<div>\n",
       "<style scoped>\n",
       "    .dataframe tbody tr th:only-of-type {\n",
       "        vertical-align: middle;\n",
       "    }\n",
       "\n",
       "    .dataframe tbody tr th {\n",
       "        vertical-align: top;\n",
       "    }\n",
       "\n",
       "    .dataframe thead th {\n",
       "        text-align: right;\n",
       "    }\n",
       "</style>\n",
       "<table border=\"1\" class=\"dataframe\">\n",
       "  <thead>\n",
       "    <tr style=\"text-align: right;\">\n",
       "      <th></th>\n",
       "      <th>College Name</th>\n",
       "      <th>Private</th>\n",
       "      <th>Apps</th>\n",
       "      <th>Accept</th>\n",
       "      <th>Enroll</th>\n",
       "      <th>Top10perc</th>\n",
       "      <th>Top25perc</th>\n",
       "      <th>F_Undergrad</th>\n",
       "      <th>P_Undergrad</th>\n",
       "      <th>Outstate</th>\n",
       "      <th>Room_Board</th>\n",
       "      <th>Books</th>\n",
       "      <th>Personal</th>\n",
       "      <th>PhD</th>\n",
       "      <th>Terminal</th>\n",
       "      <th>SF_Ratio</th>\n",
       "      <th>perc_alumni</th>\n",
       "      <th>Expend</th>\n",
       "      <th>Grad_Rate</th>\n",
       "    </tr>\n",
       "  </thead>\n",
       "  <tbody>\n",
       "    <tr>\n",
       "      <th>0</th>\n",
       "      <td>Abilene Christian University</td>\n",
       "      <td>Yes</td>\n",
       "      <td>1660</td>\n",
       "      <td>1232</td>\n",
       "      <td>721</td>\n",
       "      <td>23</td>\n",
       "      <td>52</td>\n",
       "      <td>2885</td>\n",
       "      <td>537</td>\n",
       "      <td>7440</td>\n",
       "      <td>3300</td>\n",
       "      <td>450</td>\n",
       "      <td>2200</td>\n",
       "      <td>70</td>\n",
       "      <td>78</td>\n",
       "      <td>18.1</td>\n",
       "      <td>12</td>\n",
       "      <td>7041</td>\n",
       "      <td>60</td>\n",
       "    </tr>\n",
       "    <tr>\n",
       "      <th>1</th>\n",
       "      <td>Adelphi University</td>\n",
       "      <td>Yes</td>\n",
       "      <td>2186</td>\n",
       "      <td>1924</td>\n",
       "      <td>512</td>\n",
       "      <td>16</td>\n",
       "      <td>29</td>\n",
       "      <td>2683</td>\n",
       "      <td>1227</td>\n",
       "      <td>12280</td>\n",
       "      <td>6450</td>\n",
       "      <td>750</td>\n",
       "      <td>1500</td>\n",
       "      <td>29</td>\n",
       "      <td>30</td>\n",
       "      <td>12.2</td>\n",
       "      <td>16</td>\n",
       "      <td>10527</td>\n",
       "      <td>56</td>\n",
       "    </tr>\n",
       "    <tr>\n",
       "      <th>2</th>\n",
       "      <td>Adrian College</td>\n",
       "      <td>Yes</td>\n",
       "      <td>1428</td>\n",
       "      <td>1097</td>\n",
       "      <td>336</td>\n",
       "      <td>22</td>\n",
       "      <td>50</td>\n",
       "      <td>1036</td>\n",
       "      <td>99</td>\n",
       "      <td>11250</td>\n",
       "      <td>3750</td>\n",
       "      <td>400</td>\n",
       "      <td>1165</td>\n",
       "      <td>53</td>\n",
       "      <td>66</td>\n",
       "      <td>12.9</td>\n",
       "      <td>30</td>\n",
       "      <td>8735</td>\n",
       "      <td>54</td>\n",
       "    </tr>\n",
       "    <tr>\n",
       "      <th>3</th>\n",
       "      <td>Agnes Scott College</td>\n",
       "      <td>Yes</td>\n",
       "      <td>417</td>\n",
       "      <td>349</td>\n",
       "      <td>137</td>\n",
       "      <td>60</td>\n",
       "      <td>89</td>\n",
       "      <td>510</td>\n",
       "      <td>63</td>\n",
       "      <td>12960</td>\n",
       "      <td>5450</td>\n",
       "      <td>450</td>\n",
       "      <td>875</td>\n",
       "      <td>92</td>\n",
       "      <td>97</td>\n",
       "      <td>7.7</td>\n",
       "      <td>37</td>\n",
       "      <td>19016</td>\n",
       "      <td>59</td>\n",
       "    </tr>\n",
       "    <tr>\n",
       "      <th>4</th>\n",
       "      <td>Alaska Pacific University</td>\n",
       "      <td>Yes</td>\n",
       "      <td>193</td>\n",
       "      <td>146</td>\n",
       "      <td>55</td>\n",
       "      <td>16</td>\n",
       "      <td>44</td>\n",
       "      <td>249</td>\n",
       "      <td>869</td>\n",
       "      <td>7560</td>\n",
       "      <td>4120</td>\n",
       "      <td>800</td>\n",
       "      <td>1500</td>\n",
       "      <td>76</td>\n",
       "      <td>72</td>\n",
       "      <td>11.9</td>\n",
       "      <td>2</td>\n",
       "      <td>10922</td>\n",
       "      <td>15</td>\n",
       "    </tr>\n",
       "  </tbody>\n",
       "</table>\n",
       "</div>"
      ],
      "text/plain": [
       "                   College Name Private  Apps  Accept  Enroll  Top10perc  \\\n",
       "0  Abilene Christian University     Yes  1660    1232     721         23   \n",
       "1            Adelphi University     Yes  2186    1924     512         16   \n",
       "2                Adrian College     Yes  1428    1097     336         22   \n",
       "3           Agnes Scott College     Yes   417     349     137         60   \n",
       "4     Alaska Pacific University     Yes   193     146      55         16   \n",
       "\n",
       "   Top25perc  F_Undergrad  P_Undergrad  Outstate  Room_Board  Books  Personal  \\\n",
       "0         52         2885          537      7440        3300    450      2200   \n",
       "1         29         2683         1227     12280        6450    750      1500   \n",
       "2         50         1036           99     11250        3750    400      1165   \n",
       "3         89          510           63     12960        5450    450       875   \n",
       "4         44          249          869      7560        4120    800      1500   \n",
       "\n",
       "   PhD  Terminal  SF_Ratio  perc_alumni  Expend  Grad_Rate  \n",
       "0   70        78      18.1           12    7041         60  \n",
       "1   29        30      12.2           16   10527         56  \n",
       "2   53        66      12.9           30    8735         54  \n",
       "3   92        97       7.7           37   19016         59  \n",
       "4   76        72      11.9            2   10922         15  "
      ]
     },
     "execution_count": 4,
     "metadata": {},
     "output_type": "execute_result"
    }
   ],
   "source": [
    "#Renaming the column names\n",
    "\n",
    "collegedata = collegedata.rename(columns=\n",
    "                                 {'Unnamed: 0':'College Name',\n",
    "                                  'F.Undergrad':'F_Undergrad',\n",
    "                                 'P.Undergrad':'P_Undergrad',\n",
    "                                 'Room.Board':'Room_Board',\n",
    "                                 'S.F.Ratio':'SF_Ratio',\n",
    "                                 'perc.alumni':'perc_alumni',\n",
    "                                 'Grad.Rate':'Grad_Rate'})\n",
    "\n",
    "\n",
    "collegedata.head()                              "
   ]
  },
  {
   "cell_type": "markdown",
   "metadata": {},
   "source": [
    " "
   ]
  },
  {
   "cell_type": "markdown",
   "metadata": {},
   "source": [
    "### Creating new columns to indicate the \n",
    "#### (1) Acceptance Rate: ratio of the number of student who are accepted to the number of applications received\n",
    "#### (2) Yield Rate: ratio of the number of students who enroll to the number of students who are accepted"
   ]
  },
  {
   "cell_type": "code",
   "execution_count": 5,
   "metadata": {
    "scrolled": true
   },
   "outputs": [
    {
     "data": {
      "text/html": [
       "<div>\n",
       "<style scoped>\n",
       "    .dataframe tbody tr th:only-of-type {\n",
       "        vertical-align: middle;\n",
       "    }\n",
       "\n",
       "    .dataframe tbody tr th {\n",
       "        vertical-align: top;\n",
       "    }\n",
       "\n",
       "    .dataframe thead th {\n",
       "        text-align: right;\n",
       "    }\n",
       "</style>\n",
       "<table border=\"1\" class=\"dataframe\">\n",
       "  <thead>\n",
       "    <tr style=\"text-align: right;\">\n",
       "      <th></th>\n",
       "      <th>College Name</th>\n",
       "      <th>Acceptance_Rate</th>\n",
       "      <th>Yield_Rate</th>\n",
       "    </tr>\n",
       "  </thead>\n",
       "  <tbody>\n",
       "    <tr>\n",
       "      <th>0</th>\n",
       "      <td>Abilene Christian University</td>\n",
       "      <td>74.216867</td>\n",
       "      <td>58.522727</td>\n",
       "    </tr>\n",
       "    <tr>\n",
       "      <th>1</th>\n",
       "      <td>Adelphi University</td>\n",
       "      <td>88.014639</td>\n",
       "      <td>26.611227</td>\n",
       "    </tr>\n",
       "    <tr>\n",
       "      <th>2</th>\n",
       "      <td>Adrian College</td>\n",
       "      <td>76.820728</td>\n",
       "      <td>30.628988</td>\n",
       "    </tr>\n",
       "    <tr>\n",
       "      <th>3</th>\n",
       "      <td>Agnes Scott College</td>\n",
       "      <td>83.693046</td>\n",
       "      <td>39.255014</td>\n",
       "    </tr>\n",
       "    <tr>\n",
       "      <th>4</th>\n",
       "      <td>Alaska Pacific University</td>\n",
       "      <td>75.647668</td>\n",
       "      <td>37.671233</td>\n",
       "    </tr>\n",
       "  </tbody>\n",
       "</table>\n",
       "</div>"
      ],
      "text/plain": [
       "                   College Name  Acceptance_Rate  Yield_Rate\n",
       "0  Abilene Christian University        74.216867   58.522727\n",
       "1            Adelphi University        88.014639   26.611227\n",
       "2                Adrian College        76.820728   30.628988\n",
       "3           Agnes Scott College        83.693046   39.255014\n",
       "4     Alaska Pacific University        75.647668   37.671233"
      ]
     },
     "execution_count": 5,
     "metadata": {},
     "output_type": "execute_result"
    }
   ],
   "source": [
    "# Calculating Acceptance Rate and Yield Rate and representing as a percentage (multiplying by 100)\n",
    "\n",
    "collegedata['Acceptance_Rate'] = (collegedata['Accept']/collegedata['Apps'])*100\n",
    "\n",
    "collegedata['Yield_Rate'] = (collegedata['Enroll']/collegedata['Accept'])*100\n",
    "\n",
    "\n",
    "# Displaying the rows with new columns\n",
    "collegedata[['College Name','Acceptance_Rate','Yield_Rate']].head()"
   ]
  },
  {
   "cell_type": "markdown",
   "metadata": {},
   "source": [
    " "
   ]
  },
  {
   "cell_type": "markdown",
   "metadata": {},
   "source": [
    "## Statsmodels\n",
    "\n",
    "#### Now, we will use statsmodels to fit six regression models with different predictors\n",
    "\n",
    "#### Model 1: (1) the acceptance rate, (2) the percent of new students from top 25% of high school class, (3) the out-of-state tuition.\n",
    "\n",
    "#### Model 2: Predictors same as Model 1, with an additional predictor of the yield rate.\n",
    "\n",
    "#### Model 3: Predictors same as Model 1, with an additional predictor of the instructional expenditure per student.\n",
    "\n",
    "#### Model 4: Predictors same as Model 1, with an additional predictor of the percent of alumni who donate.\n",
    "\n",
    "#### Model 5: Predictors same as Model 1, with three additional predictors from Model 2, 3 and 4 (i.e., the yield rate, the instructional expenditure per student, and the percent of alumni who donate.)\n",
    "\n",
    "#### Model 6: Predictors same as Model 5, with an additional predictor of the student/faculty ratio.\n",
    "\n",
    "\n",
    "### For each model, we will find the three model performance metrics: MSE, $R^2$, and adjusted $R^2$."
   ]
  },
  {
   "cell_type": "markdown",
   "metadata": {},
   "source": [
    " "
   ]
  },
  {
   "cell_type": "markdown",
   "metadata": {},
   "source": [
    "### Model 1:"
   ]
  },
  {
   "cell_type": "code",
   "execution_count": 6,
   "metadata": {
    "scrolled": true
   },
   "outputs": [
    {
     "name": "stdout",
     "output_type": "stream",
     "text": [
      "MSE:  182.67745860719873\n",
      "R2:  0.38330247445562793\n",
      "R2_adj:  0.38090908173035865\n"
     ]
    }
   ],
   "source": [
    "col_grad_rate1 = smf.ols(formula = 'Grad_Rate ~ Acceptance_Rate + Top25perc + Outstate ', data =collegedata).fit()\n",
    "\n",
    "print(\"MSE: \", col_grad_rate1.mse_resid)\n",
    "print(\"R2: \", col_grad_rate1.rsquared)\n",
    "print(\"R2_adj: \", col_grad_rate1.rsquared_adj)"
   ]
  },
  {
   "cell_type": "markdown",
   "metadata": {},
   "source": [
    " "
   ]
  },
  {
   "cell_type": "markdown",
   "metadata": {},
   "source": [
    "### Model 2:"
   ]
  },
  {
   "cell_type": "code",
   "execution_count": 7,
   "metadata": {
    "scrolled": false
   },
   "outputs": [
    {
     "name": "stdout",
     "output_type": "stream",
     "text": [
      "MSE:  182.027128539413\n",
      "R2:  0.3862928693817719\n",
      "R2_adj:  0.38311303968944943\n"
     ]
    }
   ],
   "source": [
    "col_grad_rate2 = smf.ols(formula = 'Grad_Rate ~ Acceptance_Rate + Top25perc + Outstate + Yield_Rate', data =collegedata).fit()\n",
    "\n",
    "print(\"MSE: \", col_grad_rate2.mse_resid)\n",
    "print(\"R2: \", col_grad_rate2.rsquared)\n",
    "print(\"R2_adj: \", col_grad_rate2.rsquared_adj)"
   ]
  },
  {
   "cell_type": "markdown",
   "metadata": {},
   "source": [
    " "
   ]
  },
  {
   "cell_type": "markdown",
   "metadata": {},
   "source": [
    "### Model 3:"
   ]
  },
  {
   "cell_type": "code",
   "execution_count": 8,
   "metadata": {
    "scrolled": true
   },
   "outputs": [
    {
     "name": "stdout",
     "output_type": "stream",
     "text": [
      "MSE:  180.67513988370257\n",
      "R2:  0.39085111894150604\n",
      "R2_adj:  0.38769490712255006\n"
     ]
    }
   ],
   "source": [
    "col_grad_rate3 = smf.ols(formula = 'Grad_Rate ~ Acceptance_Rate + Top25perc + Outstate + Expend', data =collegedata).fit()\n",
    "\n",
    "print(\"MSE: \", col_grad_rate3.mse_resid)\n",
    "print(\"R2: \", col_grad_rate3.rsquared)\n",
    "print(\"R2_adj: \", col_grad_rate3.rsquared_adj)"
   ]
  },
  {
   "cell_type": "markdown",
   "metadata": {},
   "source": [
    " "
   ]
  },
  {
   "cell_type": "markdown",
   "metadata": {},
   "source": [
    "### Model 4:"
   ]
  },
  {
   "cell_type": "code",
   "execution_count": 9,
   "metadata": {
    "scrolled": true
   },
   "outputs": [
    {
     "name": "stdout",
     "output_type": "stream",
     "text": [
      "MSE:  174.45129434711376\n",
      "R2:  0.41183490534916756\n",
      "R2_adj:  0.4087874178121166\n"
     ]
    }
   ],
   "source": [
    "col_grad_rate4 = smf.ols(formula = 'Grad_Rate ~ Acceptance_Rate + Top25perc + Outstate + perc_alumni', data =collegedata).fit()\n",
    "\n",
    "print(\"MSE: \", col_grad_rate4.mse_resid)\n",
    "print(\"R2: \", col_grad_rate4.rsquared)\n",
    "print(\"R2_adj: \", col_grad_rate4.rsquared_adj)"
   ]
  },
  {
   "cell_type": "markdown",
   "metadata": {},
   "source": [
    " "
   ]
  },
  {
   "cell_type": "markdown",
   "metadata": {},
   "source": [
    "### Model 5:"
   ]
  },
  {
   "cell_type": "code",
   "execution_count": 10,
   "metadata": {
    "scrolled": true
   },
   "outputs": [
    {
     "name": "stdout",
     "output_type": "stream",
     "text": [
      "MSE:  171.37533584518496\n",
      "R2:  0.4237024213297752\n",
      "R2_adj:  0.4192117908466306\n"
     ]
    }
   ],
   "source": [
    "col_grad_rate5 = smf.ols(formula = 'Grad_Rate ~ Acceptance_Rate + Top25perc + Outstate + Yield_Rate+ Expend + perc_alumni', data =collegedata).fit()\n",
    "\n",
    "print(\"MSE: \", col_grad_rate5.mse_resid)\n",
    "print(\"R2: \", col_grad_rate5.rsquared)\n",
    "print(\"R2_adj: \", col_grad_rate5.rsquared_adj)"
   ]
  },
  {
   "cell_type": "markdown",
   "metadata": {},
   "source": [
    " "
   ]
  },
  {
   "cell_type": "markdown",
   "metadata": {},
   "source": [
    "### Model 6:"
   ]
  },
  {
   "cell_type": "code",
   "execution_count": 11,
   "metadata": {
    "scrolled": true
   },
   "outputs": [
    {
     "name": "stdout",
     "output_type": "stream",
     "text": [
      "MSE:  171.59191875536084\n",
      "R2:  0.42372348490214096\n",
      "R2_adj:  0.41847779490775217\n"
     ]
    }
   ],
   "source": [
    "col_grad_rate6 = smf.ols(formula = 'Grad_Rate ~ Acceptance_Rate + Top25perc + Outstate + Yield_Rate+ Expend + perc_alumni + SF_Ratio', data =collegedata).fit()\n",
    "\n",
    "print(\"MSE: \", col_grad_rate6.mse_resid)\n",
    "print(\"R2: \", col_grad_rate6.rsquared)\n",
    "print(\"R2_adj: \", col_grad_rate6.rsquared_adj)"
   ]
  },
  {
   "cell_type": "markdown",
   "metadata": {},
   "source": [
    " "
   ]
  },
  {
   "cell_type": "markdown",
   "metadata": {},
   "source": [
    "### Comparing the above six models:\n",
    "\n",
    "#### Though Model 5 and Model 6 are very close, **Model 5** is the best among all as its MSE is the lowest and adjusted R squared is comparatively the highest.\n",
    "#### It means that the difference between the actual values and the predicted values are comparatively lower.\n",
    "#### Also, variation in the data of y (graduation rate) can be explained better by x (the predictors). "
   ]
  },
  {
   "cell_type": "markdown",
   "metadata": {},
   "source": [
    " "
   ]
  },
  {
   "cell_type": "markdown",
   "metadata": {},
   "source": [
    " "
   ]
  },
  {
   "cell_type": "markdown",
   "metadata": {},
   "source": [
    "## Train-Test Split method\n",
    "#### We will be using the train/test split method from scikit-learn to find the best model among the six.\n",
    "#### We will be splitting the data to 85% (training set) and 15% (test set) and the random_state set to 42."
   ]
  },
  {
   "cell_type": "code",
   "execution_count": 12,
   "metadata": {},
   "outputs": [],
   "source": [
    "# Importing libraries\n",
    "from sklearn.model_selection import train_test_split\n",
    "from sklearn import linear_model\n",
    "from sklearn import metrics"
   ]
  },
  {
   "cell_type": "code",
   "execution_count": 13,
   "metadata": {},
   "outputs": [],
   "source": [
    "# Reading y\n",
    "y_data = collegedata['Grad_Rate']"
   ]
  },
  {
   "cell_type": "markdown",
   "metadata": {},
   "source": [
    "### Model 1 (train_test_split):"
   ]
  },
  {
   "cell_type": "code",
   "execution_count": 14,
   "metadata": {},
   "outputs": [
    {
     "name": "stdout",
     "output_type": "stream",
     "text": [
      "MSE for Model 1: 141.1352414049783\n"
     ]
    }
   ],
   "source": [
    "X1_data = collegedata[['Acceptance_Rate', 'Top25perc', 'Outstate']]\n",
    "\n",
    "X1_train, X1_test, y1_train, y1_test = train_test_split (X1_data, y_data, test_size = 0.15, random_state= 42)\n",
    "\n",
    "lr1 = linear_model.LinearRegression()\n",
    "\n",
    "lr1.fit(X1_train, y1_train)\n",
    "\n",
    "y1_pred = lr1.predict(X1_test)\n",
    "\n",
    "print ('MSE for Model 1:',metrics.mean_squared_error (y1_test, y1_pred))"
   ]
  },
  {
   "cell_type": "markdown",
   "metadata": {},
   "source": [
    "### Model 2 (train_test_split):"
   ]
  },
  {
   "cell_type": "code",
   "execution_count": 15,
   "metadata": {},
   "outputs": [
    {
     "name": "stdout",
     "output_type": "stream",
     "text": [
      "MSE for Model 2: 138.12127271829294\n"
     ]
    }
   ],
   "source": [
    "X2_data = collegedata[['Acceptance_Rate', 'Top25perc', 'Outstate', 'Yield_Rate']]\n",
    "\n",
    "X2_train, X2_test, y2_train, y2_test = train_test_split (X2_data, y_data, test_size = 0.15, random_state= 42)\n",
    "\n",
    "lr2 = linear_model.LinearRegression()\n",
    "\n",
    "lr2.fit(X2_train, y2_train)\n",
    "\n",
    "y2_pred = lr2.predict(X2_test)\n",
    "\n",
    "print ('MSE for Model 2:',metrics.mean_squared_error (y2_test, y2_pred))"
   ]
  },
  {
   "cell_type": "markdown",
   "metadata": {},
   "source": [
    "### Model 3 (train_test_split):"
   ]
  },
  {
   "cell_type": "code",
   "execution_count": 16,
   "metadata": {},
   "outputs": [
    {
     "name": "stdout",
     "output_type": "stream",
     "text": [
      "MSE for Model 3: 141.82011995650237\n"
     ]
    }
   ],
   "source": [
    "X3_data = collegedata[['Acceptance_Rate', 'Top25perc', 'Outstate', 'Expend']]\n",
    "\n",
    "X3_train, X3_test, y3_train, y3_test = train_test_split (X3_data, y_data, test_size = 0.15, random_state= 42)\n",
    "\n",
    "lr3 = linear_model.LinearRegression()\n",
    "\n",
    "lr3.fit(X3_train, y3_train)\n",
    "\n",
    "y3_pred = lr3.predict(X3_test)\n",
    "\n",
    "print ('MSE for Model 3:',metrics.mean_squared_error (y3_test, y3_pred))"
   ]
  },
  {
   "cell_type": "markdown",
   "metadata": {},
   "source": [
    "### Model 4 (train_test_split):"
   ]
  },
  {
   "cell_type": "code",
   "execution_count": 17,
   "metadata": {},
   "outputs": [
    {
     "name": "stdout",
     "output_type": "stream",
     "text": [
      "MSE for Model 4: 137.6916368463751\n"
     ]
    }
   ],
   "source": [
    "X4_data = collegedata[['Acceptance_Rate', 'Top25perc', 'Outstate', 'perc_alumni']]\n",
    "\n",
    "X4_train, X4_test, y4_train, y4_test = train_test_split (X4_data, y_data, test_size = 0.15, random_state= 42)\n",
    "\n",
    "lr4 = linear_model.LinearRegression()\n",
    "\n",
    "lr4.fit(X4_train, y4_train)\n",
    "\n",
    "y4_pred = lr4.predict(X4_test)\n",
    "\n",
    "print ('MSE for Model 4:',metrics.mean_squared_error (y4_test, y4_pred))"
   ]
  },
  {
   "cell_type": "markdown",
   "metadata": {},
   "source": [
    "### Model 5 (train_test_split):"
   ]
  },
  {
   "cell_type": "code",
   "execution_count": 18,
   "metadata": {},
   "outputs": [
    {
     "name": "stdout",
     "output_type": "stream",
     "text": [
      "MSE for Model 5: 135.54129991259958\n"
     ]
    }
   ],
   "source": [
    "X5_data = collegedata[['Acceptance_Rate', 'Top25perc', 'Outstate', 'Yield_Rate' , 'Expend' , 'perc_alumni']]\n",
    "\n",
    "X5_train, X5_test, y5_train, y5_test = train_test_split (X5_data, y_data, test_size = 0.15, random_state= 42)\n",
    "\n",
    "lr5 = linear_model.LinearRegression()\n",
    "\n",
    "lr5.fit(X5_train, y5_train)\n",
    "\n",
    "y5_pred = lr5.predict(X5_test)\n",
    "\n",
    "print ('MSE for Model 5:',metrics.mean_squared_error (y5_test, y5_pred))"
   ]
  },
  {
   "cell_type": "markdown",
   "metadata": {},
   "source": [
    "### Model 6 (train_test_split):"
   ]
  },
  {
   "cell_type": "code",
   "execution_count": 19,
   "metadata": {},
   "outputs": [
    {
     "name": "stdout",
     "output_type": "stream",
     "text": [
      "MSE for Model 6: 136.16950452518563\n"
     ]
    }
   ],
   "source": [
    "X6_data = collegedata[['Acceptance_Rate', 'Top25perc', 'Outstate', 'Yield_Rate' , 'Expend' , 'perc_alumni', 'SF_Ratio']]\n",
    "\n",
    "X6_train, X6_test, y6_train, y6_test = train_test_split (X6_data, y_data, test_size = 0.15, random_state= 42)\n",
    "\n",
    "lr6 = linear_model.LinearRegression()\n",
    "\n",
    "lr6.fit(X6_train, y6_train)\n",
    "\n",
    "y6_pred = lr6.predict(X6_test)\n",
    "\n",
    "print ('MSE for Model 6:',metrics.mean_squared_error (y6_test, y6_pred))"
   ]
  },
  {
   "cell_type": "markdown",
   "metadata": {},
   "source": [
    "### Comparing the above six models:\n",
    "#### Model 5 is the best among all as it has the lowest MSE of 135.54129\n",
    "#### Lower MSE implies that the difference between the true data and the predicted data is low. Hence our regression line fits better in our model as the error is comparatively lower."
   ]
  },
  {
   "cell_type": "markdown",
   "metadata": {},
   "source": [
    " "
   ]
  },
  {
   "cell_type": "markdown",
   "metadata": {},
   "source": [
    "## Cross-Validation:"
   ]
  },
  {
   "cell_type": "code",
   "execution_count": 20,
   "metadata": {},
   "outputs": [],
   "source": [
    "#importing library\n",
    "\n",
    "from sklearn.model_selection import cross_val_score"
   ]
  },
  {
   "cell_type": "markdown",
   "metadata": {},
   "source": [
    "### Model 1 (cross-validation):"
   ]
  },
  {
   "cell_type": "code",
   "execution_count": 21,
   "metadata": {},
   "outputs": [
    {
     "name": "stdout",
     "output_type": "stream",
     "text": [
      "MSE for Model 1: 184.95846670455708\n"
     ]
    }
   ],
   "source": [
    "Model1_CV = -cross_val_score (lr1, X1_data, y_data,\n",
    "                cv = 10,\n",
    "                scoring = 'neg_mean_squared_error').mean()\n",
    "\n",
    "print ('MSE for Model 1:',Model1_CV)"
   ]
  },
  {
   "cell_type": "markdown",
   "metadata": {},
   "source": [
    "### Model 2 (cross-validation):"
   ]
  },
  {
   "cell_type": "code",
   "execution_count": 22,
   "metadata": {},
   "outputs": [
    {
     "name": "stdout",
     "output_type": "stream",
     "text": [
      "MSE for Model 2: 184.99168199166132\n"
     ]
    }
   ],
   "source": [
    "Model2_CV = -cross_val_score (lr2, X2_data, y_data,\n",
    "                cv = 10,\n",
    "                scoring = 'neg_mean_squared_error').mean()\n",
    "\n",
    "print ('MSE for Model 2:',Model2_CV )"
   ]
  },
  {
   "cell_type": "markdown",
   "metadata": {},
   "source": [
    "### Model 3 (cross-validation):"
   ]
  },
  {
   "cell_type": "code",
   "execution_count": 23,
   "metadata": {},
   "outputs": [
    {
     "name": "stdout",
     "output_type": "stream",
     "text": [
      "MSE for Model 3: 183.4607896806073\n"
     ]
    }
   ],
   "source": [
    "Model3_CV = -cross_val_score (lr3, X3_data, y_data,\n",
    "                cv = 10,\n",
    "                scoring = 'neg_mean_squared_error').mean()\n",
    "\n",
    "print ('MSE for Model 3:',Model3_CV)"
   ]
  },
  {
   "cell_type": "markdown",
   "metadata": {},
   "source": [
    "### Model 4 (cross-validation):"
   ]
  },
  {
   "cell_type": "code",
   "execution_count": 24,
   "metadata": {},
   "outputs": [
    {
     "name": "stdout",
     "output_type": "stream",
     "text": [
      "MSE for Model 4: 176.1842003986497\n"
     ]
    }
   ],
   "source": [
    "Model4_CV = -cross_val_score (lr4, X4_data, y_data,\n",
    "                cv = 10,\n",
    "                scoring = 'neg_mean_squared_error').mean()\n",
    "\n",
    "print ('MSE for Model 4:',Model4_CV)"
   ]
  },
  {
   "cell_type": "markdown",
   "metadata": {},
   "source": [
    "### Model 5 (cross-validation):"
   ]
  },
  {
   "cell_type": "code",
   "execution_count": 25,
   "metadata": {},
   "outputs": [
    {
     "name": "stdout",
     "output_type": "stream",
     "text": [
      "MSE for Model 5: 174.51244212033296\n"
     ]
    }
   ],
   "source": [
    "Model5_CV = -cross_val_score (lr5, X5_data, y_data,\n",
    "                cv = 10,\n",
    "                scoring = 'neg_mean_squared_error').mean()\n",
    "\n",
    "print ('MSE for Model 5:',Model5_CV)"
   ]
  },
  {
   "cell_type": "markdown",
   "metadata": {},
   "source": [
    "### Model 6 (cross-validation):"
   ]
  },
  {
   "cell_type": "code",
   "execution_count": 26,
   "metadata": {},
   "outputs": [
    {
     "name": "stdout",
     "output_type": "stream",
     "text": [
      "MSE for Model 6: 175.13718723110142\n"
     ]
    }
   ],
   "source": [
    "Model6_CV = -cross_val_score (lr6, X6_data, y_data,\n",
    "                cv = 10,\n",
    "                scoring = 'neg_mean_squared_error').mean()\n",
    "\n",
    "print ('MSE for Model 6:',Model6_CV)"
   ]
  },
  {
   "cell_type": "markdown",
   "metadata": {},
   "source": [
    "### Comparing the above six models:\n",
    "#### The best model among all is **Model 5**.\n",
    "#### It has the lowest MSE of 174.51244212033288 which implies that the difference between the true data and the predicted data is lowest when compared to the differences of other data. Hence comparatively lower error makes Model 5 the best."
   ]
  },
  {
   "cell_type": "markdown",
   "metadata": {},
   "source": [
    " "
   ]
  },
  {
   "cell_type": "code",
   "execution_count": 27,
   "metadata": {},
   "outputs": [
    {
     "data": {
      "text/plain": [
       "Intercept          50.637950\n",
       "Acceptance_Rate    -0.146102\n",
       "Top25perc           0.178278\n",
       "Outstate            0.001579\n",
       "Yield_Rate         -0.087575\n",
       "Expend             -0.000411\n",
       "perc_alumni         0.302697\n",
       "dtype: float64"
      ]
     },
     "execution_count": 27,
     "metadata": {},
     "output_type": "execute_result"
    }
   ],
   "source": [
    "# Displaying the intercept and the coefficients from my Model 5:\n",
    "\n",
    "col_grad_rate5 = smf.ols(formula = 'Grad_Rate ~ Acceptance_Rate + Top25perc + Outstate + Yield_Rate+ Expend + perc_alumni', data =collegedata).fit()\n",
    "col_grad_rate5.params"
   ]
  },
  {
   "cell_type": "markdown",
   "metadata": {},
   "source": [
    "### Final Model:"
   ]
  },
  {
   "cell_type": "markdown",
   "metadata": {},
   "source": [
    "### $$ \\text{GradRate}= 50.637950 -0.146102\\text{(Acceptance_Rate)} + 0.178278 \\text{(Top25perc)} +  0.001579 \\text{(Outstate)} -0.087575\\text{(Yield_Rate)} -0.000411 \\text{(Expend)}  + 0.302697\\text{(perc_alumni)} $$"
   ]
  },
  {
   "cell_type": "markdown",
   "metadata": {},
   "source": [
    "## Thank You!\n",
    "---"
   ]
  }
 ],
 "metadata": {
  "kernelspec": {
   "display_name": "Python 3",
   "language": "python",
   "name": "python3"
  },
  "language_info": {
   "codemirror_mode": {
    "name": "ipython",
    "version": 3
   },
   "file_extension": ".py",
   "mimetype": "text/x-python",
   "name": "python",
   "nbconvert_exporter": "python",
   "pygments_lexer": "ipython3",
   "version": "3.8.3"
  }
 },
 "nbformat": 4,
 "nbformat_minor": 2
}
